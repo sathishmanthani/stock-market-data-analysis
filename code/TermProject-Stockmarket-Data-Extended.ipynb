{
 "cells": [
  {
   "cell_type": "markdown",
   "metadata": {},
   "source": [
    "# Data Wrangling - Stock market's Data"
   ]
  },
  {
   "cell_type": "markdown",
   "metadata": {},
   "source": [
    "**Author**:  Sathish Manthani  (smanthani@my365.bellevue.edu)  \n",
    "**Date**  :  02/25/2020  \n",
    "**Course**:  DSC540 - Data Preparation  "
   ]
  },
  {
   "cell_type": "markdown",
   "metadata": {},
   "source": [
    "## Import required libraries"
   ]
  },
  {
   "cell_type": "code",
   "execution_count": 1,
   "metadata": {},
   "outputs": [],
   "source": [
    "# Importing requests, json modules which helps to connect to REST APIs and parse the data\n",
    "import requests, json\n",
    "# Importing datetime method for date conversion\n",
    "from datetime import datetime\n",
    "import logging #for logging connectivity\n",
    "import configparser #configure the logger\n",
    "import pandas as pd #for dataframes\n",
    "\n",
    "# Logging configuration\n",
    "logging.basicConfig(filename='./Stocks_data_pull_%s.log' %\n",
    "                        datetime.strftime(datetime.now(), '%m%d%Y_%H%M%S'),\n",
    "                        level=logging.DEBUG,\n",
    "                        format='%(asctime)s %(message)s',\n",
    "                        datefmt='%m-%d %H:%M:%S')"
   ]
  },
  {
   "cell_type": "markdown",
   "metadata": {},
   "source": [
    "## Method to get list of stock tickers from API"
   ]
  },
  {
   "cell_type": "code",
   "execution_count": 2,
   "metadata": {},
   "outputs": [],
   "source": [
    "#Import contextlib and csv modules to parse csv data\n",
    "from contextlib import closing\n",
    "import csv\n",
    "\n",
    "def getListofTickers(tickers_url):\n",
    "    '''\n",
    "    This method takes REST API url and gets list of tickers. \n",
    "    API returns CSV file output and this method returns the list of tickers.\n",
    "    '''\n",
    "    logging.debug(\"[INFO]: Getting Tickers' data via API...\")\n",
    "    with closing(requests.get(tickers_url, stream=True)) as r:\n",
    "        f = (line.decode('utf-8') for line in r.iter_lines())\n",
    "        try:\n",
    "            reader = csv.reader(f, delimiter=',', quotechar='\"')\n",
    "            next(reader, None)    \n",
    "            tickers_list = []\n",
    "            for row in reader:\n",
    "                tickers_list.append(row[0])\n",
    "        except requests.exceptions.HTTPError as exp:\n",
    "            logging.debug('[ERROR]: Error connecting to the API.',str(exp))\n",
    "            return str(exp)\n",
    "    logging.debug('[INFO]: List of tickers fetched.')\n",
    "    return tickers_list"
   ]
  },
  {
   "cell_type": "markdown",
   "metadata": {},
   "source": [
    "## Method to get Stocks' data from API"
   ]
  },
  {
   "cell_type": "code",
   "execution_count": 3,
   "metadata": {},
   "outputs": [],
   "source": [
    "def getStocksList(url,tickers):\n",
    "    '''\n",
    "    This method takes REST API url and tickers list as input and establishes connection. \n",
    "    Fetches response data and processes JSON data into Python dictionary and return the response.\n",
    "    '''\n",
    "    tickers_list = ','.join(tickers)\n",
    "    logging.debug(\"[INFO]: Connecting to the Stocks' data API...\")\n",
    "    # Connecting to the API\n",
    "    response = requests.get(url+tickers_list)\n",
    "    logging.debug('[INFO]: Connected to the API successfully! Fetching data...')\n",
    "    # Raise exception in case of connection error and return appropriate error message.\n",
    "    try:\n",
    "        response.raise_for_status()\n",
    "    except requests.exceptions.HTTPError as exp:\n",
    "        logging.debug('[ERROR]: Error connecting to the API.',str(exp))\n",
    "        return str(exp) \n",
    "    \n",
    "    # If the connection succeeds then read the fetched JSON string\n",
    "    json_resp = response.json()\n",
    "    #json_out = json.dumps(json_resp, indent=4)\n",
    "    logging.debug('[INFO]: Stocks data fetch is complete.')\n",
    "    return json_resp"
   ]
  },
  {
   "cell_type": "markdown",
   "metadata": {},
   "source": [
    "## API variables"
   ]
  },
  {
   "cell_type": "markdown",
   "metadata": {},
   "source": [
    "**I used two APIs for this exercise.  \n",
    "One fetches the list of tickers.   \n",
    "Another one gets the stocks data for these tickers.**"
   ]
  },
  {
   "cell_type": "code",
   "execution_count": 4,
   "metadata": {},
   "outputs": [],
   "source": [
    "# API to get list of tickers\n",
    "tickers_url = \"https://pkgstore.datahub.io/core/nasdaq-listings/nasdaq-listed-symbols_csv/data/595a1f263719c09a8a0b4a64f17112c6/nasdaq-listed-symbols_csv.csv\""
   ]
  },
  {
   "cell_type": "code",
   "execution_count": 5,
   "metadata": {},
   "outputs": [],
   "source": [
    "# API to get Stocks data for given tickers\n",
    "stocks_url = \"https://financialmodelingprep.com/api/v3/quote/\""
   ]
  },
  {
   "cell_type": "markdown",
   "metadata": {},
   "source": [
    "## API calls and parsing the output"
   ]
  },
  {
   "cell_type": "code",
   "execution_count": 6,
   "metadata": {},
   "outputs": [],
   "source": [
    "# Call the method to get list of tickers\n",
    "tickers_list = getListofTickers(tickers_url)"
   ]
  },
  {
   "cell_type": "code",
   "execution_count": 45,
   "metadata": {},
   "outputs": [],
   "source": [
    "tickers_list1 = ['AAPL','FB','OKTA', 'AMZN']"
   ]
  },
  {
   "cell_type": "code",
   "execution_count": 46,
   "metadata": {},
   "outputs": [],
   "source": [
    "# Call the method to get stocks' data\n",
    "# I'm only retrieving the data for a 1500 tickers. \n",
    "# Pls note its not necessary the data would be available for all the tickers.\n",
    "json_resp = getStocksList(stocks_url,tickers_list1)"
   ]
  },
  {
   "cell_type": "code",
   "execution_count": 47,
   "metadata": {},
   "outputs": [],
   "source": [
    "# Normalize the json output and store it as dataframe\n",
    "from pandas.io.json import json_normalize\n",
    "df = json_normalize(json_resp)\n",
    "#json_normalize shuffles the columns. So,I ordered the columns as given in the API\n",
    "df = df.reindex(columns=list(json_resp[0].keys()))"
   ]
  },
  {
   "cell_type": "markdown",
   "metadata": {},
   "source": [
    "## Data preparation"
   ]
  },
  {
   "cell_type": "markdown",
   "metadata": {},
   "source": [
    "### List of columns in the dataset"
   ]
  },
  {
   "cell_type": "code",
   "execution_count": 48,
   "metadata": {},
   "outputs": [
    {
     "data": {
      "text/plain": [
       "Index(['symbol', 'name', 'price', 'changesPercentage', 'change', 'dayLow',\n",
       "       'dayHigh', 'yearHigh', 'yearLow', 'marketCap', 'priceAvg50',\n",
       "       'priceAvg200', 'volume', 'avgVolume', 'exhange', 'open',\n",
       "       'previousClose', 'eps', 'pe', 'earningsAnnouncement',\n",
       "       'sharesOutstanding', 'timestamp'],\n",
       "      dtype='object')"
      ]
     },
     "execution_count": 48,
     "metadata": {},
     "output_type": "execute_result"
    }
   ],
   "source": [
    "#list of columns\n",
    "df.columns"
   ]
  },
  {
   "cell_type": "markdown",
   "metadata": {},
   "source": [
    "### Rename the columns"
   ]
  },
  {
   "cell_type": "code",
   "execution_count": 49,
   "metadata": {},
   "outputs": [],
   "source": [
    "# Rename the columns to more meaningful names\n",
    "df = df.rename(columns = {\"symbol\":\"Stock_Ticker\", \n",
    "                     \"price\":\"Price\",\n",
    "                     \"changesPercentage\":\"Change_%\",\n",
    "                    \"change\":\"Change_$\",\n",
    "                    \"dayLow\":\"24hrs_Low\",\n",
    "                    \"dayHigh\":\"24hrs_High\",\n",
    "                    \"yearHigh\":\"52weeks_High\",\n",
    "                    \"yearLow\":\"52weeks_Low\",\n",
    "                    \"marketCap\":\"Market_Cap\",\n",
    "                    \"priceAvg50\":\"Avg_50days_Price\",\n",
    "                    \"priceAvg200\":\"Avg_200days_Price\",\n",
    "                     \"volume\":\"Volume\",\n",
    "                     \"avgVolume\":\"Avg_Volume\",\n",
    "                     \"exhange\":\"Exchange\",\n",
    "                     \"open\":\"Open\",\n",
    "                     \"previousClose\":\"Previous_Close\", \n",
    "                    \"eps\":\"EPS\", \n",
    "                    \"pe\":\"PE\",\n",
    "                    \"earningsAnnouncement\":\"Earnings_Date\", \n",
    "                    \"sharesOutstanding\":\"Outstanding_Shares\", \n",
    "                    \"timestamp\":\"Timestamp\"})"
   ]
  },
  {
   "cell_type": "markdown",
   "metadata": {},
   "source": [
    "### Check the datatypes of the columns"
   ]
  },
  {
   "cell_type": "code",
   "execution_count": 50,
   "metadata": {
    "scrolled": true
   },
   "outputs": [
    {
     "data": {
      "text/plain": [
       "Stock_Ticker           object\n",
       "name                   object\n",
       "Price                 float64\n",
       "Change_%              float64\n",
       "Change_$              float64\n",
       "24hrs_Low             float64\n",
       "24hrs_High            float64\n",
       "52weeks_High          float64\n",
       "52weeks_Low           float64\n",
       "Market_Cap            float64\n",
       "Avg_50days_Price      float64\n",
       "Avg_200days_Price     float64\n",
       "Volume                  int64\n",
       "Avg_Volume              int64\n",
       "Exchange               object\n",
       "Open                  float64\n",
       "Previous_Close        float64\n",
       "EPS                   float64\n",
       "PE                    float64\n",
       "Earnings_Date          object\n",
       "Outstanding_Shares      int64\n",
       "Timestamp               int64\n",
       "dtype: object"
      ]
     },
     "execution_count": 50,
     "metadata": {},
     "output_type": "execute_result"
    }
   ],
   "source": [
    "#data types\n",
    "df.dtypes"
   ]
  },
  {
   "cell_type": "markdown",
   "metadata": {},
   "source": [
    "### Drop Null values"
   ]
  },
  {
   "cell_type": "code",
   "execution_count": 51,
   "metadata": {
    "scrolled": false
   },
   "outputs": [],
   "source": [
    "#Remove rows with null values\n",
    "df = df.dropna(how='any') \n",
    "df.dropna(how='any', inplace=True)"
   ]
  },
  {
   "cell_type": "markdown",
   "metadata": {},
   "source": [
    "### Convert Object to Date"
   ]
  },
  {
   "cell_type": "code",
   "execution_count": 52,
   "metadata": {},
   "outputs": [],
   "source": [
    "def castAsDate(date_obj):\n",
    "    '''\n",
    "    Cast date object to Date datatype\n",
    "    '''\n",
    "    dt = pd.to_datetime(date_obj,infer_datetime_format=True).dt.date\n",
    "    return dt"
   ]
  },
  {
   "cell_type": "markdown",
   "metadata": {},
   "source": [
    "### Convert Date object to date"
   ]
  },
  {
   "cell_type": "code",
   "execution_count": 53,
   "metadata": {
    "scrolled": true
   },
   "outputs": [
    {
     "data": {
      "text/plain": [
       "0    2020-01-28T21:30:00.000+0000\n",
       "1    2020-01-30T21:01:00.000+0000\n",
       "2    2020-01-29T21:05:04.000+0000\n",
       "Name: Earnings_Date, dtype: object"
      ]
     },
     "execution_count": 53,
     "metadata": {},
     "output_type": "execute_result"
    }
   ],
   "source": [
    "#Earnings date prior to conversion\n",
    "df[\"Earnings_Date\"].head()"
   ]
  },
  {
   "cell_type": "code",
   "execution_count": 54,
   "metadata": {
    "scrolled": true
   },
   "outputs": [
    {
     "data": {
      "text/plain": [
       "0    2020-01-28\n",
       "1    2020-01-30\n",
       "2    2020-01-29\n",
       "Name: Earnings_Date, dtype: object"
      ]
     },
     "execution_count": 54,
     "metadata": {},
     "output_type": "execute_result"
    }
   ],
   "source": [
    "#Conversion\n",
    "df[\"Earnings_Date\"] = castAsDate(df[\"Earnings_Date\"])\n",
    "df[\"Earnings_Date\"].head()"
   ]
  },
  {
   "cell_type": "markdown",
   "metadata": {},
   "source": [
    "### Convert Market Cap to Millions "
   ]
  },
  {
   "cell_type": "code",
   "execution_count": 55,
   "metadata": {
    "scrolled": true
   },
   "outputs": [],
   "source": [
    "df[\"Market_Cap\"] = (df.Market_Cap/1000000).map(lambda x: '{:.2f}'.format(x))"
   ]
  },
  {
   "cell_type": "markdown",
   "metadata": {},
   "source": [
    "### Convert Outstanding shares to 1000s"
   ]
  },
  {
   "cell_type": "code",
   "execution_count": 56,
   "metadata": {},
   "outputs": [],
   "source": [
    "df[\"Outstanding_Shares\"] = (df.Outstanding_Shares/1000).map(lambda x: '{:.0f}'.format(x))"
   ]
  },
  {
   "cell_type": "markdown",
   "metadata": {},
   "source": [
    "## Display the data"
   ]
  },
  {
   "cell_type": "code",
   "execution_count": 57,
   "metadata": {},
   "outputs": [
    {
     "data": {
      "text/html": [
       "<div>\n",
       "<style scoped>\n",
       "    .dataframe tbody tr th:only-of-type {\n",
       "        vertical-align: middle;\n",
       "    }\n",
       "\n",
       "    .dataframe tbody tr th {\n",
       "        vertical-align: top;\n",
       "    }\n",
       "\n",
       "    .dataframe thead th {\n",
       "        text-align: right;\n",
       "    }\n",
       "</style>\n",
       "<table border=\"1\" class=\"dataframe\">\n",
       "  <thead>\n",
       "    <tr style=\"text-align: right;\">\n",
       "      <th></th>\n",
       "      <th>Stock_Ticker</th>\n",
       "      <th>name</th>\n",
       "      <th>Price</th>\n",
       "      <th>Change_%</th>\n",
       "      <th>Change_$</th>\n",
       "      <th>24hrs_Low</th>\n",
       "      <th>24hrs_High</th>\n",
       "      <th>52weeks_High</th>\n",
       "      <th>52weeks_Low</th>\n",
       "      <th>Market_Cap</th>\n",
       "      <th>...</th>\n",
       "      <th>Volume</th>\n",
       "      <th>Avg_Volume</th>\n",
       "      <th>Exchange</th>\n",
       "      <th>Open</th>\n",
       "      <th>Previous_Close</th>\n",
       "      <th>EPS</th>\n",
       "      <th>PE</th>\n",
       "      <th>Earnings_Date</th>\n",
       "      <th>Outstanding_Shares</th>\n",
       "      <th>Timestamp</th>\n",
       "    </tr>\n",
       "  </thead>\n",
       "  <tbody>\n",
       "    <tr>\n",
       "      <th>0</th>\n",
       "      <td>AAPL</td>\n",
       "      <td>Apple Inc.</td>\n",
       "      <td>288.95</td>\n",
       "      <td>-1.36</td>\n",
       "      <td>-3.97</td>\n",
       "      <td>281.23</td>\n",
       "      <td>290.7900</td>\n",
       "      <td>327.85</td>\n",
       "      <td>170.27</td>\n",
       "      <td>1264294.95</td>\n",
       "      <td>...</td>\n",
       "      <td>56544246</td>\n",
       "      <td>37622985</td>\n",
       "      <td>NASDAQ</td>\n",
       "      <td>282.00</td>\n",
       "      <td>292.92</td>\n",
       "      <td>12.595</td>\n",
       "      <td>22.941645</td>\n",
       "      <td>2020-01-28</td>\n",
       "      <td>4375480</td>\n",
       "      <td>1583639824</td>\n",
       "    </tr>\n",
       "    <tr>\n",
       "      <th>1</th>\n",
       "      <td>AMZN</td>\n",
       "      <td>Amazon.com, Inc.</td>\n",
       "      <td>1901.09</td>\n",
       "      <td>-1.19</td>\n",
       "      <td>-22.94</td>\n",
       "      <td>1869.50</td>\n",
       "      <td>1910.3167</td>\n",
       "      <td>2185.95</td>\n",
       "      <td>1626.01</td>\n",
       "      <td>946381.59</td>\n",
       "      <td>...</td>\n",
       "      <td>5273580</td>\n",
       "      <td>4238501</td>\n",
       "      <td>NASDAQ</td>\n",
       "      <td>1875.00</td>\n",
       "      <td>1924.03</td>\n",
       "      <td>23.010</td>\n",
       "      <td>82.620160</td>\n",
       "      <td>2020-01-30</td>\n",
       "      <td>498000</td>\n",
       "      <td>1583639824</td>\n",
       "    </tr>\n",
       "    <tr>\n",
       "      <th>2</th>\n",
       "      <td>FB</td>\n",
       "      <td>Facebook, Inc.</td>\n",
       "      <td>181.02</td>\n",
       "      <td>-2.24</td>\n",
       "      <td>-4.15</td>\n",
       "      <td>176.27</td>\n",
       "      <td>183.7800</td>\n",
       "      <td>224.20</td>\n",
       "      <td>159.28</td>\n",
       "      <td>515988.46</td>\n",
       "      <td>...</td>\n",
       "      <td>24559550</td>\n",
       "      <td>16515742</td>\n",
       "      <td>NASDAQ</td>\n",
       "      <td>178.33</td>\n",
       "      <td>185.17</td>\n",
       "      <td>6.430</td>\n",
       "      <td>28.152412</td>\n",
       "      <td>2020-01-29</td>\n",
       "      <td>2405750</td>\n",
       "      <td>1583639824</td>\n",
       "    </tr>\n",
       "  </tbody>\n",
       "</table>\n",
       "<p>3 rows × 22 columns</p>\n",
       "</div>"
      ],
      "text/plain": [
       "  Stock_Ticker              name    Price  Change_%  Change_$  24hrs_Low  \\\n",
       "0         AAPL        Apple Inc.   288.95     -1.36     -3.97     281.23   \n",
       "1         AMZN  Amazon.com, Inc.  1901.09     -1.19    -22.94    1869.50   \n",
       "2           FB    Facebook, Inc.   181.02     -2.24     -4.15     176.27   \n",
       "\n",
       "   24hrs_High  52weeks_High  52weeks_Low  Market_Cap  ...    Volume  \\\n",
       "0    290.7900        327.85       170.27  1264294.95  ...  56544246   \n",
       "1   1910.3167       2185.95      1626.01   946381.59  ...   5273580   \n",
       "2    183.7800        224.20       159.28   515988.46  ...  24559550   \n",
       "\n",
       "   Avg_Volume  Exchange     Open Previous_Close     EPS         PE  \\\n",
       "0    37622985    NASDAQ   282.00         292.92  12.595  22.941645   \n",
       "1     4238501    NASDAQ  1875.00        1924.03  23.010  82.620160   \n",
       "2    16515742    NASDAQ   178.33         185.17   6.430  28.152412   \n",
       "\n",
       "   Earnings_Date  Outstanding_Shares   Timestamp  \n",
       "0     2020-01-28             4375480  1583639824  \n",
       "1     2020-01-30              498000  1583639824  \n",
       "2     2020-01-29             2405750  1583639824  \n",
       "\n",
       "[3 rows x 22 columns]"
      ]
     },
     "execution_count": 57,
     "metadata": {},
     "output_type": "execute_result"
    }
   ],
   "source": [
    "#Display final output\n",
    "df.head(50)"
   ]
  },
  {
   "cell_type": "code",
   "execution_count": 63,
   "metadata": {},
   "outputs": [
    {
     "data": {
      "text/html": [
       "<div>\n",
       "<style scoped>\n",
       "    .dataframe tbody tr th:only-of-type {\n",
       "        vertical-align: middle;\n",
       "    }\n",
       "\n",
       "    .dataframe tbody tr th {\n",
       "        vertical-align: top;\n",
       "    }\n",
       "\n",
       "    .dataframe thead th {\n",
       "        text-align: right;\n",
       "    }\n",
       "</style>\n",
       "<table border=\"1\" class=\"dataframe\">\n",
       "  <thead>\n",
       "    <tr style=\"text-align: right;\">\n",
       "      <th></th>\n",
       "      <th>Stock_Ticker</th>\n",
       "      <th>Price</th>\n",
       "    </tr>\n",
       "  </thead>\n",
       "  <tbody>\n",
       "    <tr>\n",
       "      <th>0</th>\n",
       "      <td>AAPL</td>\n",
       "      <td>288.95</td>\n",
       "    </tr>\n",
       "    <tr>\n",
       "      <th>1</th>\n",
       "      <td>AMZN</td>\n",
       "      <td>1901.09</td>\n",
       "    </tr>\n",
       "    <tr>\n",
       "      <th>2</th>\n",
       "      <td>FB</td>\n",
       "      <td>181.02</td>\n",
       "    </tr>\n",
       "  </tbody>\n",
       "</table>\n",
       "</div>"
      ],
      "text/plain": [
       "  Stock_Ticker    Price\n",
       "0         AAPL   288.95\n",
       "1         AMZN  1901.09\n",
       "2           FB   181.02"
      ]
     },
     "execution_count": 63,
     "metadata": {},
     "output_type": "execute_result"
    }
   ],
   "source": [
    "df[['Stock_Ticker','Price']]"
   ]
  },
  {
   "cell_type": "code",
   "execution_count": null,
   "metadata": {},
   "outputs": [],
   "source": []
  }
 ],
 "metadata": {
  "kernelspec": {
   "display_name": "Python 3",
   "language": "python",
   "name": "python3"
  },
  "language_info": {
   "codemirror_mode": {
    "name": "ipython",
    "version": 3
   },
   "file_extension": ".py",
   "mimetype": "text/x-python",
   "name": "python",
   "nbconvert_exporter": "python",
   "pygments_lexer": "ipython3",
   "version": "3.7.3"
  }
 },
 "nbformat": 4,
 "nbformat_minor": 2
}
